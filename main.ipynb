{
 "cells": [
  {
   "cell_type": "markdown",
   "id": "3e2108df",
   "metadata": {},
   "source": [
    "# Implementation of Pandas AI for integrating LLM with csv,xlxs and other table data forms"
   ]
  },
  {
   "cell_type": "markdown",
   "id": "66ead598",
   "metadata": {},
   "source": [
    "### Importing necessary modules"
   ]
  },
  {
   "cell_type": "code",
   "execution_count": 1,
   "id": "a7651fc2-5d01-4f14-ae83-2d4b60c4f66d",
   "metadata": {},
   "outputs": [],
   "source": [
    "import pandas as pd\n",
    "from pandasai import SmartDatalake\n",
    "from datetime import datetime\n",
    "from pandasai.llm import OpenAI"
   ]
  },
  {
   "cell_type": "markdown",
   "id": "32c83b42",
   "metadata": {},
   "source": [
    "### Instantiating a LLM with OPEN AI API KEY Edit it with your api key"
   ]
  },
  {
   "cell_type": "code",
   "execution_count": 2,
   "id": "35ea7d53-4e10-4891-b5c7-b4203916fe92",
   "metadata": {},
   "outputs": [],
   "source": [
    "llm = OpenAI(api_token=\"your-api-key\")"
   ]
  },
  {
   "cell_type": "markdown",
   "id": "d7e75831",
   "metadata": {},
   "source": [
    "### Importing Necessary dataframes"
   ]
  },
  {
   "cell_type": "code",
   "execution_count": 3,
   "id": "a726525e-4e1e-4c5c-ba22-79c2b15c97cd",
   "metadata": {},
   "outputs": [],
   "source": [
    "sku_data = pd.read_csv(\"./sku_data.csv\")\n",
    "country_id_mapping = pd.read_csv(\"./country_id_mapping.csv\")\n",
    "session_clickstream_data = pd.read_csv(\"./session_clickstream_data.csv\")\n",
    "customer_data = pd.read_csv(\"./customer_data.csv\")"
   ]
  },
  {
   "cell_type": "markdown",
   "id": "87a863fb",
   "metadata": {},
   "source": [
    "### For multiple dataset using datalake"
   ]
  },
  {
   "cell_type": "code",
   "execution_count": 4,
   "id": "fec1bb21-facc-447a-aaa9-3b1726c5befc",
   "metadata": {},
   "outputs": [],
   "source": [
    "df = SmartDatalake([sku_data, country_id_mapping, session_clickstream_data, customer_data], config={\"llm\": llm})"
   ]
  },
  {
   "cell_type": "markdown",
   "id": "4d745552",
   "metadata": {},
   "source": [
    "### Examples of questions"
   ]
  },
  {
   "cell_type": "code",
   "execution_count": 5,
   "id": "973b5890-1cc9-403c-8c67-d1d2c27f145a",
   "metadata": {},
   "outputs": [
    {
     "data": {
      "text/plain": [
       "'The most sold month was 4.'"
      ]
     },
     "execution_count": 5,
     "metadata": {},
     "output_type": "execute_result"
    }
   ],
   "source": [
    "df.chat(\"Which month was the most product sold?\")"
   ]
  },
  {
   "cell_type": "code",
   "execution_count": 6,
   "id": "5d4cdd20-1b2c-457c-aee3-ecaa3bbcdcc5",
   "metadata": {},
   "outputs": [
    {
     "data": {
      "text/html": [
       "<div>\n",
       "<style scoped>\n",
       "    .dataframe tbody tr th:only-of-type {\n",
       "        vertical-align: middle;\n",
       "    }\n",
       "\n",
       "    .dataframe tbody tr th {\n",
       "        vertical-align: top;\n",
       "    }\n",
       "\n",
       "    .dataframe thead th {\n",
       "        text-align: right;\n",
       "    }\n",
       "</style>\n",
       "<table border=\"1\" class=\"dataframe\">\n",
       "  <thead>\n",
       "    <tr style=\"text-align: right;\">\n",
       "      <th></th>\n",
       "      <th>index</th>\n",
       "      <th>Available Colors</th>\n",
       "    </tr>\n",
       "  </thead>\n",
       "  <tbody>\n",
       "    <tr>\n",
       "      <th>0</th>\n",
       "      <td>Orange</td>\n",
       "      <td>13558</td>\n",
       "    </tr>\n",
       "    <tr>\n",
       "      <th>1</th>\n",
       "      <td>Grey</td>\n",
       "      <td>13053</td>\n",
       "    </tr>\n",
       "    <tr>\n",
       "      <th>2</th>\n",
       "      <td>Purple</td>\n",
       "      <td>11672</td>\n",
       "    </tr>\n",
       "    <tr>\n",
       "      <th>3</th>\n",
       "      <td>Blue</td>\n",
       "      <td>11413</td>\n",
       "    </tr>\n",
       "    <tr>\n",
       "      <th>4</th>\n",
       "      <td>Red</td>\n",
       "      <td>10952</td>\n",
       "    </tr>\n",
       "  </tbody>\n",
       "</table>\n",
       "</div>"
      ],
      "text/plain": [
       "    index  Available Colors\n",
       "0  Orange             13558\n",
       "1    Grey             13053\n",
       "2  Purple             11672\n",
       "3    Blue             11413\n",
       "4     Red             10952"
      ]
     },
     "execution_count": 6,
     "metadata": {},
     "output_type": "execute_result"
    }
   ],
   "source": [
    "df.chat(\"What were the 5 most common product colors sold in Europe in May, June, and July\")"
   ]
  },
  {
   "cell_type": "code",
   "execution_count": 7,
   "id": "f1bb0e15-4087-4739-b316-2071d7da2cb5",
   "metadata": {},
   "outputs": [
    {
     "data": {
      "text/plain": [
       "'The top customers with high purchases are: 22433, 13846, 22902. Their common frequency to buy is approximately 190.67 orders.'"
      ]
     },
     "execution_count": 7,
     "metadata": {},
     "output_type": "execute_result"
    }
   ],
   "source": [
    "df.chat(\"Identify top customers with high purchases and determine what is their common frequency to buy?\")"
   ]
  },
  {
   "cell_type": "code",
   "execution_count": 8,
   "id": "a1d69f82-1a04-4326-9317-e14208363ba8",
   "metadata": {},
   "outputs": [
    {
     "data": {
      "text/html": [
       "<div>\n",
       "<style scoped>\n",
       "    .dataframe tbody tr th:only-of-type {\n",
       "        vertical-align: middle;\n",
       "    }\n",
       "\n",
       "    .dataframe tbody tr th {\n",
       "        vertical-align: top;\n",
       "    }\n",
       "\n",
       "    .dataframe thead th {\n",
       "        text-align: right;\n",
       "    }\n",
       "</style>\n",
       "<table border=\"1\" class=\"dataframe\">\n",
       "  <thead>\n",
       "    <tr style=\"text-align: right;\">\n",
       "      <th>Page Location</th>\n",
       "      <th>1</th>\n",
       "      <th>2</th>\n",
       "      <th>3</th>\n",
       "      <th>4</th>\n",
       "      <th>5</th>\n",
       "      <th>6</th>\n",
       "    </tr>\n",
       "    <tr>\n",
       "      <th>Weekday</th>\n",
       "      <th></th>\n",
       "      <th></th>\n",
       "      <th></th>\n",
       "      <th></th>\n",
       "      <th></th>\n",
       "      <th></th>\n",
       "    </tr>\n",
       "  </thead>\n",
       "  <tbody>\n",
       "    <tr>\n",
       "      <th>False</th>\n",
       "      <td>7463</td>\n",
       "      <td>7149</td>\n",
       "      <td>4720</td>\n",
       "      <td>5857</td>\n",
       "      <td>5924</td>\n",
       "      <td>4424</td>\n",
       "    </tr>\n",
       "    <tr>\n",
       "      <th>True</th>\n",
       "      <td>27069</td>\n",
       "      <td>26234</td>\n",
       "      <td>16936</td>\n",
       "      <td>21520</td>\n",
       "      <td>21859</td>\n",
       "      <td>16319</td>\n",
       "    </tr>\n",
       "  </tbody>\n",
       "</table>\n",
       "</div>"
      ],
      "text/plain": [
       "Page Location      1      2      3      4      5      6\n",
       "Weekday                                                \n",
       "False           7463   7149   4720   5857   5924   4424\n",
       "True           27069  26234  16936  21520  21859  16319"
      ]
     },
     "execution_count": 8,
     "metadata": {},
     "output_type": "execute_result"
    }
   ],
   "source": [
    "df.chat(\"Explore the variation in products browsed by customers before making a purchase on weekends and weekdays.\")"
   ]
  },
  {
   "cell_type": "code",
   "execution_count": 9,
   "id": "a156cd50-77ec-4d2b-b44e-18339b3ae2ad",
   "metadata": {},
   "outputs": [
    {
     "data": {
      "text/plain": [
       "\"Unfortunately, I was not able to answer your question, because of the following error:\\n\\nname 'eval' is not defined\\n\""
      ]
     },
     "execution_count": 9,
     "metadata": {},
     "output_type": "execute_result"
    }
   ],
   "source": [
    "df.chat(\"What are the most common sizes available for the top-selling products?\")"
   ]
  },
  {
   "cell_type": "code",
   "execution_count": 10,
   "id": "6b75b112-b704-4778-8184-9c55745e79c4",
   "metadata": {},
   "outputs": [
    {
     "data": {
      "text/plain": [
       "\"Unfortunately, I was not able to answer your question, because of the following error:\\n\\n'dict' object has no attribute 'to_json'\\n\""
      ]
     },
     "execution_count": 10,
     "metadata": {},
     "output_type": "execute_result"
    }
   ],
   "source": [
    "df.chat(\"Are there any trends in product features (texture, color, type) and the session activity (time spent, avg purchases, etc.)\")"
   ]
  },
  {
   "cell_type": "code",
   "execution_count": 11,
   "id": "a2774dd8-19a9-45b6-b4c7-98d343aed353",
   "metadata": {},
   "outputs": [
    {
     "data": {
      "text/plain": [
       "'The average spend in the summer is $43.92 and the average spend in the spring is $43.69.'"
      ]
     },
     "execution_count": 11,
     "metadata": {},
     "output_type": "execute_result"
    }
   ],
   "source": [
    "df.chat(\"What is the average spend in the summer vs spring?\")"
   ]
  },
  {
   "cell_type": "code",
   "execution_count": 12,
   "id": "0b43d993-cf39-4f2a-8715-7c8f78cbbd8d",
   "metadata": {},
   "outputs": [
    {
     "data": {
      "text/html": [
       "<div>\n",
       "<style scoped>\n",
       "    .dataframe tbody tr th:only-of-type {\n",
       "        vertical-align: middle;\n",
       "    }\n",
       "\n",
       "    .dataframe tbody tr th {\n",
       "        vertical-align: top;\n",
       "    }\n",
       "\n",
       "    .dataframe thead th {\n",
       "        text-align: right;\n",
       "    }\n",
       "</style>\n",
       "<table border=\"1\" class=\"dataframe\">\n",
       "  <thead>\n",
       "    <tr style=\"text-align: right;\">\n",
       "      <th></th>\n",
       "      <th>Month</th>\n",
       "      <th>Number of Sales</th>\n",
       "    </tr>\n",
       "  </thead>\n",
       "  <tbody>\n",
       "    <tr>\n",
       "      <th>0</th>\n",
       "      <td>4</td>\n",
       "      <td>48199</td>\n",
       "    </tr>\n",
       "    <tr>\n",
       "      <th>1</th>\n",
       "      <td>5</td>\n",
       "      <td>35654</td>\n",
       "    </tr>\n",
       "    <tr>\n",
       "      <th>2</th>\n",
       "      <td>6</td>\n",
       "      <td>32242</td>\n",
       "    </tr>\n",
       "    <tr>\n",
       "      <th>3</th>\n",
       "      <td>7</td>\n",
       "      <td>35231</td>\n",
       "    </tr>\n",
       "    <tr>\n",
       "      <th>4</th>\n",
       "      <td>8</td>\n",
       "      <td>14148</td>\n",
       "    </tr>\n",
       "  </tbody>\n",
       "</table>\n",
       "</div>"
      ],
      "text/plain": [
       "   Month  Number of Sales\n",
       "0      4            48199\n",
       "1      5            35654\n",
       "2      6            32242\n",
       "3      7            35231\n",
       "4      8            14148"
      ]
     },
     "execution_count": 12,
     "metadata": {},
     "output_type": "execute_result"
    }
   ],
   "source": [
    "df.chat(\"what is number of sales in number in each month\")"
   ]
  }
 ],
 "metadata": {
  "kernelspec": {
   "display_name": "Python 3 (ipykernel)",
   "language": "python",
   "name": "python3"
  },
  "language_info": {
   "codemirror_mode": {
    "name": "ipython",
    "version": 3
   },
   "file_extension": ".py",
   "mimetype": "text/x-python",
   "name": "python",
   "nbconvert_exporter": "python",
   "pygments_lexer": "ipython3",
   "version": "3.11.4"
  }
 },
 "nbformat": 4,
 "nbformat_minor": 5
}
